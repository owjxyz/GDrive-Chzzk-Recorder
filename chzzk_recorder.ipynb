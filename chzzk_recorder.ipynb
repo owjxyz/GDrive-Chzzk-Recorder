{
  "cells": [
    {
      "cell_type": "markdown",
      "metadata": {
        "id": "view-in-github",
        "colab_type": "text"
      },
      "source": [
        "<a href=\"https://colab.research.google.com/github/owjxyz/GDrive-Chzzk-Recorder/blob/main/chzzk_recorder.ipynb\" target=\"_parent\"><img src=\"https://colab.research.google.com/assets/colab-badge.svg\" alt=\"Open In Colab\"/></a>"
      ]
    },
    {
      "cell_type": "code",
      "execution_count": null,
      "metadata": {
        "cellView": "form",
        "id": "2vhIQccR4F3U"
      },
      "outputs": [],
      "source": [
        "#@markdown <br><br><br><center><img src='https://upload.wikimedia.org/wikipedia/commons/thumb/d/da/Google_Drive_logo.png/600px-Google_Drive_logo.png' height=\"50\" alt=\"Gdrive-logo\"/></center><center><h3>Mount Gdrive to /content/drive </h3></center><br>\n",
        "#this cell is from https://github.com/limontec\n",
        "MODE = \"MOUNT\"\n",
        "from google.colab import drive\n",
        "drive.mount._DEBUG = False\n",
        "if MODE == \"MOUNT\":\n",
        "  drive.mount('/content/drive', force_remount=True)\n",
        "elif MODE == \"UNMOUNT\":\n",
        "  try:\n",
        "    drive.flush_and_unmount()\n",
        "  except ValueError:\n",
        "    pass\n",
        "  get_ipython().system_raw(\"rm -rf /root/.config/Google/DriveFS\")\n",
        "#@markdown <br><center><h3>Install streamlink on Colab<h3><center><center><h5>This process may take a while<h5><center>\n",
        "!pip install streamlink\n",
        "from google.colab import output\n",
        "output.clear()"
      ]
    },
    {
      "cell_type": "code",
      "execution_count": null,
      "metadata": {
        "id": "wvTAWR6GSbZH",
        "colab": {
          "base_uri": "https://localhost:8080/"
        },
        "outputId": "b22f912a-7d11-4a1e-b731-7c1d5906b745"
      },
      "outputs": [
        {
          "output_type": "stream",
          "name": "stdout",
          "text": [
            "Cloning into 'Chzzk-Rekoda'...\n",
            "remote: Enumerating objects: 455, done.\u001b[K\n",
            "remote: Counting objects: 100% (107/107), done.\u001b[K\n",
            "remote: Compressing objects: 100% (61/61), done.\u001b[K\n",
            "remote: Total 455 (delta 43), reused 55 (delta 40), pack-reused 348 (from 2)\u001b[K\n",
            "Receiving objects: 100% (455/455), 254.20 KiB | 2.31 MiB/s, done.\n",
            "Resolving deltas: 100% (249/249), done.\n"
          ]
        }
      ],
      "source": [
        "!git clone https://github.com/owjxyz/Chzzk-Rekoda.git"
      ]
    },
    {
      "cell_type": "code",
      "execution_count": null,
      "metadata": {
        "id": "a3AM3KnIt3oy"
      },
      "outputs": [],
      "source": [
        "%cd Chzzk-Rekoda\n",
        "!./chzzk_record"
      ]
    },
    {
      "cell_type": "code",
      "source": [
        "!./settings"
      ],
      "metadata": {
        "id": "i2yhVZQdEe0m"
      },
      "execution_count": null,
      "outputs": []
    }
  ],
  "metadata": {
    "colab": {
      "provenance": [],
      "include_colab_link": true
    },
    "kernelspec": {
      "display_name": "Python 3",
      "name": "python3"
    },
    "language_info": {
      "name": "python"
    }
  },
  "nbformat": 4,
  "nbformat_minor": 0
}